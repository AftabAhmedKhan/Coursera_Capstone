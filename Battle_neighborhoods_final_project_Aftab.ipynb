{
 "cells": [
  {
   "cell_type": "markdown",
   "metadata": {},
   "source": [
    "**Introduction**\n",
    "In this project I will be comparing neighborhoods of New York and Toronto to determine which city is more attractive to live in.\n",
    "\n",
    "Both cities have their admirers, for good measure. \n",
    "\n",
    "This will be of interest to:\n",
    "- People anywhere in the world thinking of choosing the best city around the world to live in,  can add this information to the rest of their analysis about the other cities.\n",
    "- This analysis will be particularly interesting for anyone specifically evaluating either of these 2 cities or comparing them to decide which is better to move to.\n",
    "- Employers in either city, specially startups, may want to look at this comparison to decide about opening an office after considering the pros and cons related to where their employees would be happiest.\n",
    "- Tourists will also benefit from this analysis, although their criteria will be influenced by short term stay considerations\n",
    "- Travel websites, airlines, government tourism ministries and property agents of NYC and Toronto will also be interested in using this analysis in their marketing campaigns giving their own perspectives \n",
    "- City municipalities around the world may want to pay heed to what makes these 2 cities so attractive\n",
    "- Finally, bloggers who argue and present the reasons why one city is better than the other may start to see how each city has its own character and therefore \"to each his/her own\"."
   ]
  },
  {
   "cell_type": "markdown",
   "metadata": {},
   "source": [
    "**Data**\n",
    "To make this comparison, I will be scraping data from the wikipedia pages for neighborhoods of NYC and Toronto, location coordinates from geocoder for both cities, and Foursquare location data to learn details about venues within these cities."
   ]
  },
  {
   "cell_type": "code",
   "execution_count": null,
   "metadata": {},
   "outputs": [],
   "source": []
  },
  {
   "cell_type": "code",
   "execution_count": null,
   "metadata": {},
   "outputs": [],
   "source": []
  },
  {
   "cell_type": "code",
   "execution_count": null,
   "metadata": {},
   "outputs": [],
   "source": []
  },
  {
   "cell_type": "code",
   "execution_count": null,
   "metadata": {},
   "outputs": [],
   "source": []
  },
  {
   "cell_type": "code",
   "execution_count": null,
   "metadata": {},
   "outputs": [],
   "source": []
  },
  {
   "cell_type": "code",
   "execution_count": null,
   "metadata": {},
   "outputs": [],
   "source": []
  },
  {
   "cell_type": "code",
   "execution_count": null,
   "metadata": {},
   "outputs": [],
   "source": []
  },
  {
   "cell_type": "code",
   "execution_count": null,
   "metadata": {},
   "outputs": [],
   "source": []
  },
  {
   "cell_type": "code",
   "execution_count": null,
   "metadata": {},
   "outputs": [],
   "source": []
  },
  {
   "cell_type": "code",
   "execution_count": null,
   "metadata": {},
   "outputs": [],
   "source": []
  },
  {
   "cell_type": "code",
   "execution_count": null,
   "metadata": {},
   "outputs": [],
   "source": []
  },
  {
   "cell_type": "code",
   "execution_count": null,
   "metadata": {},
   "outputs": [],
   "source": []
  },
  {
   "cell_type": "code",
   "execution_count": null,
   "metadata": {},
   "outputs": [],
   "source": []
  },
  {
   "cell_type": "code",
   "execution_count": null,
   "metadata": {},
   "outputs": [],
   "source": []
  },
  {
   "cell_type": "code",
   "execution_count": null,
   "metadata": {},
   "outputs": [],
   "source": []
  }
 ],
 "metadata": {
  "kernelspec": {
   "display_name": "Python 3",
   "language": "python",
   "name": "python3"
  },
  "language_info": {
   "codemirror_mode": {
    "name": "ipython",
    "version": 3
   },
   "file_extension": ".py",
   "mimetype": "text/x-python",
   "name": "python",
   "nbconvert_exporter": "python",
   "pygments_lexer": "ipython3",
   "version": "3.6.5"
  }
 },
 "nbformat": 4,
 "nbformat_minor": 2
}
